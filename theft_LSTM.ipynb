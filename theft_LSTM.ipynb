{
  "nbformat": 4,
  "nbformat_minor": 0,
  "metadata": {
    "colab": {
      "provenance": [],
      "authorship_tag": "ABX9TyP1uz79UjhJK1d2GiDc3dK9",
      "include_colab_link": true
    },
    "kernelspec": {
      "name": "python3",
      "display_name": "Python 3"
    },
    "language_info": {
      "name": "python"
    },
    "accelerator": "GPU",
    "gpuClass": "standard"
  },
  "cells": [
    {
      "cell_type": "markdown",
      "metadata": {
        "id": "view-in-github",
        "colab_type": "text"
      },
      "source": [
        "<a href=\"https://colab.research.google.com/github/shfiq1/DeepLearningWithTensorflow/blob/main/theft_LSTM.ipynb\" target=\"_parent\"><img src=\"https://colab.research.google.com/assets/colab-badge.svg\" alt=\"Open In Colab\"/></a>"
      ]
    },
    {
      "cell_type": "code",
      "execution_count": null,
      "metadata": {
        "id": "1vBAoyUJ2vyX"
      },
      "outputs": [],
      "source": [
        "from google.colab import drive"
      ]
    },
    {
      "cell_type": "code",
      "source": [
        "drive.mount('/content/drive')"
      ],
      "metadata": {
        "id": "MaSiY3Fk29tR",
        "colab": {
          "base_uri": "https://localhost:8080/"
        },
        "outputId": "60625307-4388-414d-f16a-40059d84ef0d"
      },
      "execution_count": null,
      "outputs": [
        {
          "output_type": "stream",
          "name": "stdout",
          "text": [
            "Drive already mounted at /content/drive; to attempt to forcibly remount, call drive.mount(\"/content/drive\", force_remount=True).\n"
          ]
        }
      ]
    },
    {
      "cell_type": "code",
      "source": [
        "import pandas as pd"
      ],
      "metadata": {
        "id": "f0TgyMDh3CF8"
      },
      "execution_count": null,
      "outputs": []
    },
    {
      "cell_type": "code",
      "source": [
        "Theft_data=pd.read_csv('/content/drive/MyDrive/Colab Notebooks/theft_data.csv')"
      ],
      "metadata": {
        "id": "7QVXMZ2_3Kz9"
      },
      "execution_count": null,
      "outputs": []
    },
    {
      "cell_type": "code",
      "source": [
        "theft_count = pd.DataFrame(Theft_data.groupby(['YEAR','MONTH']).size().rename('counts').reset_index())"
      ],
      "metadata": {
        "id": "FvY3tPnv3P1o"
      },
      "execution_count": null,
      "outputs": []
    },
    {
      "cell_type": "code",
      "source": [
        "theft_count"
      ],
      "metadata": {
        "id": "t3nU99qe3XPu",
        "colab": {
          "base_uri": "https://localhost:8080/",
          "height": 424
        },
        "outputId": "f608932e-df66-4c1d-e0b8-3c5df693181e"
      },
      "execution_count": null,
      "outputs": [
        {
          "output_type": "execute_result",
          "data": {
            "text/plain": [
              "     YEAR  MONTH  counts\n",
              "0    2003      1     247\n",
              "1    2003      2     219\n",
              "2    2003      3     208\n",
              "3    2003      4     235\n",
              "4    2003      5     223\n",
              "..    ...    ...     ...\n",
              "170  2017      3     487\n",
              "171  2017      4     439\n",
              "172  2017      5     436\n",
              "173  2017      6     455\n",
              "174  2017      7     172\n",
              "\n",
              "[175 rows x 3 columns]"
            ],
            "text/html": [
              "\n",
              "  <div id=\"df-e1285122-100d-4c94-94ca-8cfb4daf34e7\">\n",
              "    <div class=\"colab-df-container\">\n",
              "      <div>\n",
              "<style scoped>\n",
              "    .dataframe tbody tr th:only-of-type {\n",
              "        vertical-align: middle;\n",
              "    }\n",
              "\n",
              "    .dataframe tbody tr th {\n",
              "        vertical-align: top;\n",
              "    }\n",
              "\n",
              "    .dataframe thead th {\n",
              "        text-align: right;\n",
              "    }\n",
              "</style>\n",
              "<table border=\"1\" class=\"dataframe\">\n",
              "  <thead>\n",
              "    <tr style=\"text-align: right;\">\n",
              "      <th></th>\n",
              "      <th>YEAR</th>\n",
              "      <th>MONTH</th>\n",
              "      <th>counts</th>\n",
              "    </tr>\n",
              "  </thead>\n",
              "  <tbody>\n",
              "    <tr>\n",
              "      <th>0</th>\n",
              "      <td>2003</td>\n",
              "      <td>1</td>\n",
              "      <td>247</td>\n",
              "    </tr>\n",
              "    <tr>\n",
              "      <th>1</th>\n",
              "      <td>2003</td>\n",
              "      <td>2</td>\n",
              "      <td>219</td>\n",
              "    </tr>\n",
              "    <tr>\n",
              "      <th>2</th>\n",
              "      <td>2003</td>\n",
              "      <td>3</td>\n",
              "      <td>208</td>\n",
              "    </tr>\n",
              "    <tr>\n",
              "      <th>3</th>\n",
              "      <td>2003</td>\n",
              "      <td>4</td>\n",
              "      <td>235</td>\n",
              "    </tr>\n",
              "    <tr>\n",
              "      <th>4</th>\n",
              "      <td>2003</td>\n",
              "      <td>5</td>\n",
              "      <td>223</td>\n",
              "    </tr>\n",
              "    <tr>\n",
              "      <th>...</th>\n",
              "      <td>...</td>\n",
              "      <td>...</td>\n",
              "      <td>...</td>\n",
              "    </tr>\n",
              "    <tr>\n",
              "      <th>170</th>\n",
              "      <td>2017</td>\n",
              "      <td>3</td>\n",
              "      <td>487</td>\n",
              "    </tr>\n",
              "    <tr>\n",
              "      <th>171</th>\n",
              "      <td>2017</td>\n",
              "      <td>4</td>\n",
              "      <td>439</td>\n",
              "    </tr>\n",
              "    <tr>\n",
              "      <th>172</th>\n",
              "      <td>2017</td>\n",
              "      <td>5</td>\n",
              "      <td>436</td>\n",
              "    </tr>\n",
              "    <tr>\n",
              "      <th>173</th>\n",
              "      <td>2017</td>\n",
              "      <td>6</td>\n",
              "      <td>455</td>\n",
              "    </tr>\n",
              "    <tr>\n",
              "      <th>174</th>\n",
              "      <td>2017</td>\n",
              "      <td>7</td>\n",
              "      <td>172</td>\n",
              "    </tr>\n",
              "  </tbody>\n",
              "</table>\n",
              "<p>175 rows × 3 columns</p>\n",
              "</div>\n",
              "      <button class=\"colab-df-convert\" onclick=\"convertToInteractive('df-e1285122-100d-4c94-94ca-8cfb4daf34e7')\"\n",
              "              title=\"Convert this dataframe to an interactive table.\"\n",
              "              style=\"display:none;\">\n",
              "        \n",
              "  <svg xmlns=\"http://www.w3.org/2000/svg\" height=\"24px\"viewBox=\"0 0 24 24\"\n",
              "       width=\"24px\">\n",
              "    <path d=\"M0 0h24v24H0V0z\" fill=\"none\"/>\n",
              "    <path d=\"M18.56 5.44l.94 2.06.94-2.06 2.06-.94-2.06-.94-.94-2.06-.94 2.06-2.06.94zm-11 1L8.5 8.5l.94-2.06 2.06-.94-2.06-.94L8.5 2.5l-.94 2.06-2.06.94zm10 10l.94 2.06.94-2.06 2.06-.94-2.06-.94-.94-2.06-.94 2.06-2.06.94z\"/><path d=\"M17.41 7.96l-1.37-1.37c-.4-.4-.92-.59-1.43-.59-.52 0-1.04.2-1.43.59L10.3 9.45l-7.72 7.72c-.78.78-.78 2.05 0 2.83L4 21.41c.39.39.9.59 1.41.59.51 0 1.02-.2 1.41-.59l7.78-7.78 2.81-2.81c.8-.78.8-2.07 0-2.86zM5.41 20L4 18.59l7.72-7.72 1.47 1.35L5.41 20z\"/>\n",
              "  </svg>\n",
              "      </button>\n",
              "      \n",
              "  <style>\n",
              "    .colab-df-container {\n",
              "      display:flex;\n",
              "      flex-wrap:wrap;\n",
              "      gap: 12px;\n",
              "    }\n",
              "\n",
              "    .colab-df-convert {\n",
              "      background-color: #E8F0FE;\n",
              "      border: none;\n",
              "      border-radius: 50%;\n",
              "      cursor: pointer;\n",
              "      display: none;\n",
              "      fill: #1967D2;\n",
              "      height: 32px;\n",
              "      padding: 0 0 0 0;\n",
              "      width: 32px;\n",
              "    }\n",
              "\n",
              "    .colab-df-convert:hover {\n",
              "      background-color: #E2EBFA;\n",
              "      box-shadow: 0px 1px 2px rgba(60, 64, 67, 0.3), 0px 1px 3px 1px rgba(60, 64, 67, 0.15);\n",
              "      fill: #174EA6;\n",
              "    }\n",
              "\n",
              "    [theme=dark] .colab-df-convert {\n",
              "      background-color: #3B4455;\n",
              "      fill: #D2E3FC;\n",
              "    }\n",
              "\n",
              "    [theme=dark] .colab-df-convert:hover {\n",
              "      background-color: #434B5C;\n",
              "      box-shadow: 0px 1px 3px 1px rgba(0, 0, 0, 0.15);\n",
              "      filter: drop-shadow(0px 1px 2px rgba(0, 0, 0, 0.3));\n",
              "      fill: #FFFFFF;\n",
              "    }\n",
              "  </style>\n",
              "\n",
              "      <script>\n",
              "        const buttonEl =\n",
              "          document.querySelector('#df-e1285122-100d-4c94-94ca-8cfb4daf34e7 button.colab-df-convert');\n",
              "        buttonEl.style.display =\n",
              "          google.colab.kernel.accessAllowed ? 'block' : 'none';\n",
              "\n",
              "        async function convertToInteractive(key) {\n",
              "          const element = document.querySelector('#df-e1285122-100d-4c94-94ca-8cfb4daf34e7');\n",
              "          const dataTable =\n",
              "            await google.colab.kernel.invokeFunction('convertToInteractive',\n",
              "                                                     [key], {});\n",
              "          if (!dataTable) return;\n",
              "\n",
              "          const docLinkHtml = 'Like what you see? Visit the ' +\n",
              "            '<a target=\"_blank\" href=https://colab.research.google.com/notebooks/data_table.ipynb>data table notebook</a>'\n",
              "            + ' to learn more about interactive tables.';\n",
              "          element.innerHTML = '';\n",
              "          dataTable['output_type'] = 'display_data';\n",
              "          await google.colab.output.renderOutput(dataTable, element);\n",
              "          const docLink = document.createElement('div');\n",
              "          docLink.innerHTML = docLinkHtml;\n",
              "          element.appendChild(docLink);\n",
              "        }\n",
              "      </script>\n",
              "    </div>\n",
              "  </div>\n",
              "  "
            ]
          },
          "metadata": {},
          "execution_count": 8
        }
      ]
    },
    {
      "cell_type": "code",
      "source": [
        "dataset=theft_count['counts']"
      ],
      "metadata": {
        "id": "K80GlGjO0vw5"
      },
      "execution_count": null,
      "outputs": []
    },
    {
      "cell_type": "code",
      "source": [
        "dataset"
      ],
      "metadata": {
        "id": "XnNnV_VO0wJ_",
        "colab": {
          "base_uri": "https://localhost:8080/"
        },
        "outputId": "c65d5bd6-619f-44d3-cdd2-dea046b1d2d7"
      },
      "execution_count": null,
      "outputs": [
        {
          "output_type": "execute_result",
          "data": {
            "text/plain": [
              "0      247\n",
              "1      219\n",
              "2      208\n",
              "3      235\n",
              "4      223\n",
              "      ... \n",
              "170    487\n",
              "171    439\n",
              "172    436\n",
              "173    455\n",
              "174    172\n",
              "Name: counts, Length: 175, dtype: int64"
            ]
          },
          "metadata": {},
          "execution_count": 10
        }
      ]
    },
    {
      "cell_type": "code",
      "source": [
        "import numpy as np\n",
        "import matplotlib.pyplot as plt\n",
        "from pandas import read_csv\n",
        "import math\n",
        "\n",
        "from keras.models import Sequential\n",
        "from keras.layers import Dense\n",
        "from keras.layers import LSTM, Flatten\n",
        "from sklearn.preprocessing import MinMaxScaler\n",
        "from sklearn.metrics import mean_squared_error\n",
        "#from keras.callbacks import EarlyStopping\n",
        "from keras.layers import ConvLSTM2D"
      ],
      "metadata": {
        "id": "UdQrQPnl3eRV"
      },
      "execution_count": null,
      "outputs": []
    },
    {
      "cell_type": "code",
      "source": [
        "dataset=pd.DataFrame(dataset)"
      ],
      "metadata": {
        "id": "2PqC7jx3uRUZ"
      },
      "execution_count": null,
      "outputs": []
    },
    {
      "cell_type": "code",
      "source": [],
      "metadata": {
        "id": "DvozbVsluRtV"
      },
      "execution_count": null,
      "outputs": []
    },
    {
      "cell_type": "code",
      "source": [
        "data = dataset.values"
      ],
      "metadata": {
        "id": "NV0EoYvgzZE-"
      },
      "execution_count": null,
      "outputs": []
    },
    {
      "cell_type": "code",
      "source": [
        "data = data.astype('float32')"
      ],
      "metadata": {
        "id": "QD_D_PHwztJn"
      },
      "execution_count": null,
      "outputs": []
    },
    {
      "cell_type": "code",
      "source": [
        "scaler = MinMaxScaler(feature_range=(0, 1))"
      ],
      "metadata": {
        "id": "BSSmvlGfzw1a"
      },
      "execution_count": null,
      "outputs": []
    },
    {
      "cell_type": "code",
      "source": [
        "scaler=scaler.fit(data)"
      ],
      "metadata": {
        "id": "Wkt3QY1Zz3oX"
      },
      "execution_count": null,
      "outputs": []
    },
    {
      "cell_type": "code",
      "source": [
        "dataset=scaler.fit_transform(data)"
      ],
      "metadata": {
        "id": "ArGiF-9X0B7U"
      },
      "execution_count": null,
      "outputs": []
    },
    {
      "cell_type": "code",
      "source": [
        "train_size = int(len(dataset) * 0.66)\n",
        "test_size = len(dataset) - train_size\n",
        "train, test = dataset[0:train_size,:], dataset[train_size:len(dataset),:]"
      ],
      "metadata": {
        "id": "w-jjIFlV0Og4"
      },
      "execution_count": null,
      "outputs": []
    },
    {
      "cell_type": "code",
      "source": [
        "train.shape"
      ],
      "metadata": {
        "id": "InBPHceXkajM",
        "colab": {
          "base_uri": "https://localhost:8080/"
        },
        "outputId": "b48612e2-e8a5-48b7-be4c-dd7a244b6336"
      },
      "execution_count": null,
      "outputs": [
        {
          "output_type": "execute_result",
          "data": {
            "text/plain": [
              "(115, 1)"
            ]
          },
          "metadata": {},
          "execution_count": 19
        }
      ]
    },
    {
      "cell_type": "code",
      "source": [
        "test.shape"
      ],
      "metadata": {
        "id": "m-ZhvdEKhn34",
        "colab": {
          "base_uri": "https://localhost:8080/"
        },
        "outputId": "452f39fe-53fc-4fbf-b8ef-30019f755df2"
      },
      "execution_count": null,
      "outputs": [
        {
          "output_type": "execute_result",
          "data": {
            "text/plain": [
              "(60, 1)"
            ]
          },
          "metadata": {},
          "execution_count": 20
        }
      ]
    },
    {
      "cell_type": "code",
      "source": [],
      "metadata": {
        "id": "BUpEItZdhuh6"
      },
      "execution_count": null,
      "outputs": []
    },
    {
      "cell_type": "code",
      "source": [
        "#train=scaler.fit_transform(train)"
      ],
      "metadata": {
        "id": "Ri3p7ZRrhvGc"
      },
      "execution_count": null,
      "outputs": []
    },
    {
      "cell_type": "code",
      "source": [
        "#test=scaler.fit_transform(test)"
      ],
      "metadata": {
        "id": "joJ6n04Zir81"
      },
      "execution_count": null,
      "outputs": []
    },
    {
      "cell_type": "code",
      "source": [
        "length=len(dataset)"
      ],
      "metadata": {
        "id": "MZ98lKRpmcxj"
      },
      "execution_count": null,
      "outputs": []
    },
    {
      "cell_type": "code",
      "source": [
        "length"
      ],
      "metadata": {
        "id": "mfEDat6vmzYC",
        "colab": {
          "base_uri": "https://localhost:8080/"
        },
        "outputId": "c4669a50-f84b-403b-e41e-67237c5dd604"
      },
      "execution_count": null,
      "outputs": [
        {
          "output_type": "execute_result",
          "data": {
            "text/plain": [
              "175"
            ]
          },
          "metadata": {},
          "execution_count": 24
        }
      ]
    },
    {
      "cell_type": "code",
      "source": [
        "def to_sequences(dataset, seq_size=1):\n",
        "    x = []\n",
        "    y = []\n",
        "\n",
        "    for i in range(len(dataset)-seq_size-1):\n",
        "        #print(i)\n",
        "        window = dataset[i:(i+seq_size), 0]\n",
        "        x.append(window)\n",
        "        y.append(dataset[i+seq_size, 0])\n",
        "\n",
        "    return np.array(x),np.array(y)\n",
        ""
      ],
      "metadata": {
        "id": "4VuCyah92nwF"
      },
      "execution_count": null,
      "outputs": []
    },
    {
      "cell_type": "code",
      "source": [
        "seq_size = 13"
      ],
      "metadata": {
        "id": "xuja77JU2tEC"
      },
      "execution_count": null,
      "outputs": []
    },
    {
      "cell_type": "code",
      "source": [
        "trainx,trainy=to_sequences(train,seq_size)\n",
        "testx,testy=to_sequences(test,seq_size)\n"
      ],
      "metadata": {
        "id": "XKoD_Cf_3aXN"
      },
      "execution_count": null,
      "outputs": []
    },
    {
      "cell_type": "code",
      "source": [
        "trainy.shape"
      ],
      "metadata": {
        "id": "faXRdUKpv_OL",
        "colab": {
          "base_uri": "https://localhost:8080/"
        },
        "outputId": "e64c6f5e-177d-4e50-de88-2ac12587f2a8"
      },
      "execution_count": null,
      "outputs": [
        {
          "output_type": "execute_result",
          "data": {
            "text/plain": [
              "(101,)"
            ]
          },
          "metadata": {},
          "execution_count": 28
        }
      ]
    },
    {
      "cell_type": "code",
      "source": [
        "testy.shape"
      ],
      "metadata": {
        "id": "vuBU-agRv03G",
        "colab": {
          "base_uri": "https://localhost:8080/"
        },
        "outputId": "a93f1653-0da6-4ca3-a145-02792f1b5843"
      },
      "execution_count": null,
      "outputs": [
        {
          "output_type": "execute_result",
          "data": {
            "text/plain": [
              "(46,)"
            ]
          },
          "metadata": {},
          "execution_count": 29
        }
      ]
    },
    {
      "cell_type": "code",
      "source": [
        "testx.shape"
      ],
      "metadata": {
        "id": "U-Bqe8MFvtq7",
        "colab": {
          "base_uri": "https://localhost:8080/"
        },
        "outputId": "26018e95-abe2-4e5b-f1c5-e032627bfe16"
      },
      "execution_count": null,
      "outputs": [
        {
          "output_type": "execute_result",
          "data": {
            "text/plain": [
              "(46, 13)"
            ]
          },
          "metadata": {},
          "execution_count": 30
        }
      ]
    },
    {
      "cell_type": "code",
      "source": [
        "trainx.shape"
      ],
      "metadata": {
        "id": "T_URjwVlujzt",
        "colab": {
          "base_uri": "https://localhost:8080/"
        },
        "outputId": "6c046edd-bcc3-44df-b575-f7d3688ce4e3"
      },
      "execution_count": null,
      "outputs": [
        {
          "output_type": "execute_result",
          "data": {
            "text/plain": [
              "(101, 13)"
            ]
          },
          "metadata": {},
          "execution_count": 31
        }
      ]
    },
    {
      "cell_type": "code",
      "source": [
        "trainx"
      ],
      "metadata": {
        "id": "C-Pnfzs9pCIy",
        "colab": {
          "base_uri": "https://localhost:8080/"
        },
        "outputId": "a874955c-b2f6-4795-9012-269e0cae0e69"
      },
      "execution_count": null,
      "outputs": [
        {
          "output_type": "execute_result",
          "data": {
            "text/plain": [
              "array([[0.21989527, 0.14659688, 0.11780104, ..., 0.10209426, 0.15183249,\n",
              "        0.1963351 ],\n",
              "       [0.14659688, 0.11780104, 0.18848166, ..., 0.15183249, 0.1963351 ,\n",
              "        0.31413612],\n",
              "       [0.11780104, 0.18848166, 0.15706804, ..., 0.1963351 , 0.31413612,\n",
              "        0.31151834],\n",
              "       ...,\n",
              "       [0.46858642, 0.42931935, 0.3089005 , ..., 0.39267018, 0.38219896,\n",
              "        0.38219896],\n",
              "       [0.42931935, 0.3089005 , 0.36125657, ..., 0.38219896, 0.38219896,\n",
              "        0.34031412],\n",
              "       [0.3089005 , 0.36125657, 0.40837696, ..., 0.38219896, 0.34031412,\n",
              "        0.35602096]], dtype=float32)"
            ]
          },
          "metadata": {},
          "execution_count": 32
        }
      ]
    },
    {
      "cell_type": "code",
      "source": [
        "trainx = np.reshape(trainx, (trainx.shape[0],1, trainx.shape[1]))\n",
        "testx = np.reshape(testx, (testx.shape[0],1, testx.shape[1]))"
      ],
      "metadata": {
        "id": "j12hfW4bsasE"
      },
      "execution_count": null,
      "outputs": []
    },
    {
      "cell_type": "code",
      "source": [
        "trainx.shape"
      ],
      "metadata": {
        "id": "qIBQKvyk-m4n",
        "colab": {
          "base_uri": "https://localhost:8080/"
        },
        "outputId": "944fc2d4-c89e-4ffa-e110-fb878af854e2"
      },
      "execution_count": null,
      "outputs": [
        {
          "output_type": "execute_result",
          "data": {
            "text/plain": [
              "(101, 1, 13)"
            ]
          },
          "metadata": {},
          "execution_count": 34
        }
      ]
    },
    {
      "cell_type": "code",
      "source": [
        "model=Sequential()"
      ],
      "metadata": {
        "id": "k58ZUtHL4Eub"
      },
      "execution_count": null,
      "outputs": []
    },
    {
      "cell_type": "code",
      "source": [
        "model.add(LSTM(128,input_shape=(None,seq_size),return_sequences=True))\n",
        "model.add(LSTM(64,return_sequences=False))\n",
        "model.add(Dense(32))\n",
        "model.add(Dense(1))\n",
        "model.compile(loss='mean_squared_error',optimizer='adam')"
      ],
      "metadata": {
        "id": "UXPU4c0N4J_A"
      },
      "execution_count": null,
      "outputs": []
    },
    {
      "cell_type": "code",
      "source": [
        "model.summary()"
      ],
      "metadata": {
        "id": "XzUMViTw4NwZ",
        "colab": {
          "base_uri": "https://localhost:8080/"
        },
        "outputId": "989c6d3d-cbf1-4f14-bb38-a7ced7f765f2"
      },
      "execution_count": null,
      "outputs": [
        {
          "output_type": "stream",
          "name": "stdout",
          "text": [
            "Model: \"sequential\"\n",
            "_________________________________________________________________\n",
            " Layer (type)                Output Shape              Param #   \n",
            "=================================================================\n",
            " lstm (LSTM)                 (None, None, 128)         72704     \n",
            "                                                                 \n",
            " lstm_1 (LSTM)               (None, 64)                49408     \n",
            "                                                                 \n",
            " dense (Dense)               (None, 32)                2080      \n",
            "                                                                 \n",
            " dense_1 (Dense)             (None, 1)                 33        \n",
            "                                                                 \n",
            "=================================================================\n",
            "Total params: 124,225\n",
            "Trainable params: 124,225\n",
            "Non-trainable params: 0\n",
            "_________________________________________________________________\n"
          ]
        }
      ]
    },
    {
      "cell_type": "code",
      "source": [
        "model.fit(trainx,trainy,validation_data=(testx,testy),verbose=2,epochs=100)"
      ],
      "metadata": {
        "id": "ucjc6St34RSS",
        "colab": {
          "base_uri": "https://localhost:8080/"
        },
        "outputId": "9684c3d8-7bb1-462c-a5ce-7b59dd0319af"
      },
      "execution_count": null,
      "outputs": [
        {
          "output_type": "stream",
          "name": "stdout",
          "text": [
            "Epoch 1/100\n",
            "4/4 - 8s - loss: 0.0721 - val_loss: 0.2996 - 8s/epoch - 2s/step\n",
            "Epoch 2/100\n",
            "4/4 - 0s - loss: 0.0413 - val_loss: 0.1789 - 37ms/epoch - 9ms/step\n",
            "Epoch 3/100\n",
            "4/4 - 0s - loss: 0.0163 - val_loss: 0.0724 - 38ms/epoch - 9ms/step\n",
            "Epoch 4/100\n",
            "4/4 - 0s - loss: 0.0085 - val_loss: 0.0201 - 36ms/epoch - 9ms/step\n",
            "Epoch 5/100\n",
            "4/4 - 0s - loss: 0.0123 - val_loss: 0.0214 - 39ms/epoch - 10ms/step\n",
            "Epoch 6/100\n",
            "4/4 - 0s - loss: 0.0101 - val_loss: 0.0438 - 36ms/epoch - 9ms/step\n",
            "Epoch 7/100\n",
            "4/4 - 0s - loss: 0.0075 - val_loss: 0.0668 - 38ms/epoch - 9ms/step\n",
            "Epoch 8/100\n",
            "4/4 - 0s - loss: 0.0077 - val_loss: 0.0748 - 36ms/epoch - 9ms/step\n",
            "Epoch 9/100\n",
            "4/4 - 0s - loss: 0.0078 - val_loss: 0.0689 - 38ms/epoch - 9ms/step\n",
            "Epoch 10/100\n",
            "4/4 - 0s - loss: 0.0075 - val_loss: 0.0568 - 39ms/epoch - 10ms/step\n",
            "Epoch 11/100\n",
            "4/4 - 0s - loss: 0.0072 - val_loss: 0.0445 - 41ms/epoch - 10ms/step\n",
            "Epoch 12/100\n",
            "4/4 - 0s - loss: 0.0072 - val_loss: 0.0392 - 35ms/epoch - 9ms/step\n",
            "Epoch 13/100\n",
            "4/4 - 0s - loss: 0.0070 - val_loss: 0.0392 - 37ms/epoch - 9ms/step\n",
            "Epoch 14/100\n",
            "4/4 - 0s - loss: 0.0069 - val_loss: 0.0381 - 35ms/epoch - 9ms/step\n",
            "Epoch 15/100\n",
            "4/4 - 0s - loss: 0.0067 - val_loss: 0.0382 - 37ms/epoch - 9ms/step\n",
            "Epoch 16/100\n",
            "4/4 - 0s - loss: 0.0065 - val_loss: 0.0403 - 37ms/epoch - 9ms/step\n",
            "Epoch 17/100\n",
            "4/4 - 0s - loss: 0.0065 - val_loss: 0.0406 - 39ms/epoch - 10ms/step\n",
            "Epoch 18/100\n",
            "4/4 - 0s - loss: 0.0064 - val_loss: 0.0338 - 38ms/epoch - 9ms/step\n",
            "Epoch 19/100\n",
            "4/4 - 0s - loss: 0.0062 - val_loss: 0.0241 - 37ms/epoch - 9ms/step\n",
            "Epoch 20/100\n",
            "4/4 - 0s - loss: 0.0062 - val_loss: 0.0216 - 37ms/epoch - 9ms/step\n",
            "Epoch 21/100\n",
            "4/4 - 0s - loss: 0.0061 - val_loss: 0.0241 - 37ms/epoch - 9ms/step\n",
            "Epoch 22/100\n",
            "4/4 - 0s - loss: 0.0058 - val_loss: 0.0242 - 38ms/epoch - 10ms/step\n",
            "Epoch 23/100\n",
            "4/4 - 0s - loss: 0.0057 - val_loss: 0.0257 - 43ms/epoch - 11ms/step\n",
            "Epoch 24/100\n",
            "4/4 - 0s - loss: 0.0057 - val_loss: 0.0224 - 52ms/epoch - 13ms/step\n",
            "Epoch 25/100\n",
            "4/4 - 0s - loss: 0.0056 - val_loss: 0.0209 - 37ms/epoch - 9ms/step\n",
            "Epoch 26/100\n",
            "4/4 - 0s - loss: 0.0055 - val_loss: 0.0168 - 36ms/epoch - 9ms/step\n",
            "Epoch 27/100\n",
            "4/4 - 0s - loss: 0.0053 - val_loss: 0.0150 - 38ms/epoch - 10ms/step\n",
            "Epoch 28/100\n",
            "4/4 - 0s - loss: 0.0053 - val_loss: 0.0148 - 37ms/epoch - 9ms/step\n",
            "Epoch 29/100\n",
            "4/4 - 0s - loss: 0.0053 - val_loss: 0.0171 - 38ms/epoch - 10ms/step\n",
            "Epoch 30/100\n",
            "4/4 - 0s - loss: 0.0052 - val_loss: 0.0138 - 52ms/epoch - 13ms/step\n",
            "Epoch 31/100\n",
            "4/4 - 0s - loss: 0.0051 - val_loss: 0.0131 - 35ms/epoch - 9ms/step\n",
            "Epoch 32/100\n",
            "4/4 - 0s - loss: 0.0051 - val_loss: 0.0131 - 37ms/epoch - 9ms/step\n",
            "Epoch 33/100\n",
            "4/4 - 0s - loss: 0.0048 - val_loss: 0.0146 - 36ms/epoch - 9ms/step\n",
            "Epoch 34/100\n",
            "4/4 - 0s - loss: 0.0052 - val_loss: 0.0155 - 39ms/epoch - 10ms/step\n",
            "Epoch 35/100\n",
            "4/4 - 0s - loss: 0.0051 - val_loss: 0.0131 - 37ms/epoch - 9ms/step\n",
            "Epoch 36/100\n",
            "4/4 - 0s - loss: 0.0048 - val_loss: 0.0131 - 37ms/epoch - 9ms/step\n",
            "Epoch 37/100\n",
            "4/4 - 0s - loss: 0.0049 - val_loss: 0.0131 - 44ms/epoch - 11ms/step\n",
            "Epoch 38/100\n",
            "4/4 - 0s - loss: 0.0047 - val_loss: 0.0150 - 37ms/epoch - 9ms/step\n",
            "Epoch 39/100\n",
            "4/4 - 0s - loss: 0.0048 - val_loss: 0.0154 - 53ms/epoch - 13ms/step\n",
            "Epoch 40/100\n",
            "4/4 - 0s - loss: 0.0048 - val_loss: 0.0135 - 37ms/epoch - 9ms/step\n",
            "Epoch 41/100\n",
            "4/4 - 0s - loss: 0.0046 - val_loss: 0.0129 - 38ms/epoch - 9ms/step\n",
            "Epoch 42/100\n",
            "4/4 - 0s - loss: 0.0046 - val_loss: 0.0131 - 36ms/epoch - 9ms/step\n",
            "Epoch 43/100\n",
            "4/4 - 0s - loss: 0.0047 - val_loss: 0.0141 - 35ms/epoch - 9ms/step\n",
            "Epoch 44/100\n",
            "4/4 - 0s - loss: 0.0046 - val_loss: 0.0125 - 39ms/epoch - 10ms/step\n",
            "Epoch 45/100\n",
            "4/4 - 0s - loss: 0.0047 - val_loss: 0.0127 - 38ms/epoch - 10ms/step\n",
            "Epoch 46/100\n",
            "4/4 - 0s - loss: 0.0046 - val_loss: 0.0125 - 62ms/epoch - 15ms/step\n",
            "Epoch 47/100\n",
            "4/4 - 0s - loss: 0.0045 - val_loss: 0.0126 - 42ms/epoch - 11ms/step\n",
            "Epoch 48/100\n",
            "4/4 - 0s - loss: 0.0045 - val_loss: 0.0120 - 38ms/epoch - 10ms/step\n",
            "Epoch 49/100\n",
            "4/4 - 0s - loss: 0.0048 - val_loss: 0.0119 - 37ms/epoch - 9ms/step\n",
            "Epoch 50/100\n",
            "4/4 - 0s - loss: 0.0048 - val_loss: 0.0140 - 37ms/epoch - 9ms/step\n",
            "Epoch 51/100\n",
            "4/4 - 0s - loss: 0.0047 - val_loss: 0.0124 - 36ms/epoch - 9ms/step\n",
            "Epoch 52/100\n",
            "4/4 - 0s - loss: 0.0046 - val_loss: 0.0134 - 52ms/epoch - 13ms/step\n",
            "Epoch 53/100\n",
            "4/4 - 0s - loss: 0.0046 - val_loss: 0.0113 - 39ms/epoch - 10ms/step\n",
            "Epoch 54/100\n",
            "4/4 - 0s - loss: 0.0045 - val_loss: 0.0119 - 37ms/epoch - 9ms/step\n",
            "Epoch 55/100\n",
            "4/4 - 0s - loss: 0.0045 - val_loss: 0.0112 - 36ms/epoch - 9ms/step\n",
            "Epoch 56/100\n",
            "4/4 - 0s - loss: 0.0044 - val_loss: 0.0120 - 39ms/epoch - 10ms/step\n",
            "Epoch 57/100\n",
            "4/4 - 0s - loss: 0.0044 - val_loss: 0.0111 - 38ms/epoch - 9ms/step\n",
            "Epoch 58/100\n",
            "4/4 - 0s - loss: 0.0043 - val_loss: 0.0111 - 37ms/epoch - 9ms/step\n",
            "Epoch 59/100\n",
            "4/4 - 0s - loss: 0.0043 - val_loss: 0.0112 - 38ms/epoch - 10ms/step\n",
            "Epoch 60/100\n",
            "4/4 - 0s - loss: 0.0043 - val_loss: 0.0113 - 37ms/epoch - 9ms/step\n",
            "Epoch 61/100\n",
            "4/4 - 0s - loss: 0.0043 - val_loss: 0.0117 - 40ms/epoch - 10ms/step\n",
            "Epoch 62/100\n",
            "4/4 - 0s - loss: 0.0043 - val_loss: 0.0128 - 37ms/epoch - 9ms/step\n",
            "Epoch 63/100\n",
            "4/4 - 0s - loss: 0.0043 - val_loss: 0.0112 - 35ms/epoch - 9ms/step\n",
            "Epoch 64/100\n",
            "4/4 - 0s - loss: 0.0043 - val_loss: 0.0112 - 37ms/epoch - 9ms/step\n",
            "Epoch 65/100\n",
            "4/4 - 0s - loss: 0.0043 - val_loss: 0.0118 - 52ms/epoch - 13ms/step\n",
            "Epoch 66/100\n",
            "4/4 - 0s - loss: 0.0043 - val_loss: 0.0110 - 37ms/epoch - 9ms/step\n",
            "Epoch 67/100\n",
            "4/4 - 0s - loss: 0.0044 - val_loss: 0.0113 - 39ms/epoch - 10ms/step\n",
            "Epoch 68/100\n",
            "4/4 - 0s - loss: 0.0042 - val_loss: 0.0112 - 37ms/epoch - 9ms/step\n",
            "Epoch 69/100\n",
            "4/4 - 0s - loss: 0.0044 - val_loss: 0.0109 - 44ms/epoch - 11ms/step\n",
            "Epoch 70/100\n",
            "4/4 - 0s - loss: 0.0042 - val_loss: 0.0135 - 38ms/epoch - 10ms/step\n",
            "Epoch 71/100\n",
            "4/4 - 0s - loss: 0.0048 - val_loss: 0.0111 - 36ms/epoch - 9ms/step\n",
            "Epoch 72/100\n",
            "4/4 - 0s - loss: 0.0042 - val_loss: 0.0124 - 54ms/epoch - 13ms/step\n",
            "Epoch 73/100\n",
            "4/4 - 0s - loss: 0.0045 - val_loss: 0.0109 - 36ms/epoch - 9ms/step\n",
            "Epoch 74/100\n",
            "4/4 - 0s - loss: 0.0042 - val_loss: 0.0110 - 54ms/epoch - 13ms/step\n",
            "Epoch 75/100\n",
            "4/4 - 0s - loss: 0.0045 - val_loss: 0.0105 - 37ms/epoch - 9ms/step\n",
            "Epoch 76/100\n",
            "4/4 - 0s - loss: 0.0042 - val_loss: 0.0154 - 36ms/epoch - 9ms/step\n",
            "Epoch 77/100\n",
            "4/4 - 0s - loss: 0.0047 - val_loss: 0.0110 - 38ms/epoch - 9ms/step\n",
            "Epoch 78/100\n",
            "4/4 - 0s - loss: 0.0043 - val_loss: 0.0106 - 36ms/epoch - 9ms/step\n",
            "Epoch 79/100\n",
            "4/4 - 0s - loss: 0.0043 - val_loss: 0.0138 - 43ms/epoch - 11ms/step\n",
            "Epoch 80/100\n",
            "4/4 - 0s - loss: 0.0046 - val_loss: 0.0135 - 39ms/epoch - 10ms/step\n",
            "Epoch 81/100\n",
            "4/4 - 0s - loss: 0.0042 - val_loss: 0.0110 - 39ms/epoch - 10ms/step\n",
            "Epoch 82/100\n",
            "4/4 - 0s - loss: 0.0047 - val_loss: 0.0107 - 38ms/epoch - 10ms/step\n",
            "Epoch 83/100\n",
            "4/4 - 0s - loss: 0.0043 - val_loss: 0.0135 - 35ms/epoch - 9ms/step\n",
            "Epoch 84/100\n",
            "4/4 - 0s - loss: 0.0042 - val_loss: 0.0104 - 39ms/epoch - 10ms/step\n",
            "Epoch 85/100\n",
            "4/4 - 0s - loss: 0.0046 - val_loss: 0.0103 - 37ms/epoch - 9ms/step\n",
            "Epoch 86/100\n",
            "4/4 - 0s - loss: 0.0041 - val_loss: 0.0145 - 36ms/epoch - 9ms/step\n",
            "Epoch 87/100\n",
            "4/4 - 0s - loss: 0.0043 - val_loss: 0.0111 - 38ms/epoch - 10ms/step\n",
            "Epoch 88/100\n",
            "4/4 - 0s - loss: 0.0042 - val_loss: 0.0104 - 40ms/epoch - 10ms/step\n",
            "Epoch 89/100\n",
            "4/4 - 0s - loss: 0.0042 - val_loss: 0.0116 - 39ms/epoch - 10ms/step\n",
            "Epoch 90/100\n",
            "4/4 - 0s - loss: 0.0042 - val_loss: 0.0106 - 54ms/epoch - 13ms/step\n",
            "Epoch 91/100\n",
            "4/4 - 0s - loss: 0.0041 - val_loss: 0.0104 - 37ms/epoch - 9ms/step\n",
            "Epoch 92/100\n",
            "4/4 - 0s - loss: 0.0041 - val_loss: 0.0114 - 44ms/epoch - 11ms/step\n",
            "Epoch 93/100\n",
            "4/4 - 0s - loss: 0.0042 - val_loss: 0.0103 - 54ms/epoch - 14ms/step\n",
            "Epoch 94/100\n",
            "4/4 - 0s - loss: 0.0043 - val_loss: 0.0112 - 55ms/epoch - 14ms/step\n",
            "Epoch 95/100\n",
            "4/4 - 0s - loss: 0.0042 - val_loss: 0.0126 - 38ms/epoch - 10ms/step\n",
            "Epoch 96/100\n",
            "4/4 - 0s - loss: 0.0045 - val_loss: 0.0123 - 38ms/epoch - 10ms/step\n",
            "Epoch 97/100\n",
            "4/4 - 0s - loss: 0.0041 - val_loss: 0.0103 - 39ms/epoch - 10ms/step\n",
            "Epoch 98/100\n",
            "4/4 - 0s - loss: 0.0041 - val_loss: 0.0105 - 53ms/epoch - 13ms/step\n",
            "Epoch 99/100\n",
            "4/4 - 0s - loss: 0.0041 - val_loss: 0.0122 - 36ms/epoch - 9ms/step\n",
            "Epoch 100/100\n",
            "4/4 - 0s - loss: 0.0045 - val_loss: 0.0143 - 37ms/epoch - 9ms/step\n"
          ]
        },
        {
          "output_type": "execute_result",
          "data": {
            "text/plain": [
              "<keras.callbacks.History at 0x7fec76787910>"
            ]
          },
          "metadata": {},
          "execution_count": 38
        }
      ]
    },
    {
      "cell_type": "code",
      "source": [
        "trainPredict=model.predict(trainx)\n",
        "testPredict=model.predict(testx)"
      ],
      "metadata": {
        "id": "nqIoK9OD4ln9"
      },
      "execution_count": null,
      "outputs": []
    },
    {
      "cell_type": "code",
      "source": [
        "from sklearn import metrics"
      ],
      "metadata": {
        "id": "47SMGSeZL9cL"
      },
      "execution_count": null,
      "outputs": []
    },
    {
      "cell_type": "code",
      "source": [
        "trainPredict.shape"
      ],
      "metadata": {
        "id": "wU-pPvgW7u2U",
        "colab": {
          "base_uri": "https://localhost:8080/"
        },
        "outputId": "291edb8b-acf4-409b-f090-09144c70c691"
      },
      "execution_count": null,
      "outputs": [
        {
          "output_type": "execute_result",
          "data": {
            "text/plain": [
              "(101, 1)"
            ]
          },
          "metadata": {},
          "execution_count": 41
        }
      ]
    },
    {
      "cell_type": "code",
      "source": [
        "testPredict.shape"
      ],
      "metadata": {
        "id": "cepycYnP71YF",
        "colab": {
          "base_uri": "https://localhost:8080/"
        },
        "outputId": "74e3fb49-1b06-4df6-a6b5-7567fd77283d"
      },
      "execution_count": null,
      "outputs": [
        {
          "output_type": "execute_result",
          "data": {
            "text/plain": [
              "(46, 1)"
            ]
          },
          "metadata": {},
          "execution_count": 42
        }
      ]
    },
    {
      "cell_type": "code",
      "source": [
        "testy.shape"
      ],
      "metadata": {
        "id": "CBDfTTqEBP1-",
        "colab": {
          "base_uri": "https://localhost:8080/"
        },
        "outputId": "3d185836-671b-4304-ddb7-2ad32d5ee9ff"
      },
      "execution_count": null,
      "outputs": [
        {
          "output_type": "execute_result",
          "data": {
            "text/plain": [
              "(46,)"
            ]
          },
          "metadata": {},
          "execution_count": 43
        }
      ]
    },
    {
      "cell_type": "code",
      "source": [
        "trainPredict=scaler.inverse_transform(trainPredict)\n",
        "trainy=scaler.inverse_transform([trainy])\n",
        "testPredict=scaler.inverse_transform(testPredict)\n",
        "testy=scaler.inverse_transform([testy])"
      ],
      "metadata": {
        "id": "_VY2V2Ki46zK"
      },
      "execution_count": null,
      "outputs": []
    },
    {
      "cell_type": "code",
      "source": [
        "#testys=testy.reshape(49,1)"
      ],
      "metadata": {
        "id": "88xruWcdQ7MJ"
      },
      "execution_count": null,
      "outputs": []
    },
    {
      "cell_type": "code",
      "source": [
        "#testpred=testPredict.reshape(49,1)"
      ],
      "metadata": {
        "id": "Dd3x-kSOQjuY"
      },
      "execution_count": null,
      "outputs": []
    },
    {
      "cell_type": "code",
      "source": [
        "#metrics.r2_score(testys,testpred)"
      ],
      "metadata": {
        "id": "Qks5H79cSaog"
      },
      "execution_count": null,
      "outputs": []
    },
    {
      "cell_type": "code",
      "source": [
        "trainScore = math.sqrt(mean_squared_error(trainy[0], trainPredict[:,0]))\n",
        "print('Train Score: %.2f RMSE' % (trainScore))"
      ],
      "metadata": {
        "id": "g26JUBZC5Z5J",
        "colab": {
          "base_uri": "https://localhost:8080/"
        },
        "outputId": "f2a6fc98-8072-4882-e210-f77ec3c71c8a"
      },
      "execution_count": null,
      "outputs": [
        {
          "output_type": "stream",
          "name": "stdout",
          "text": [
            "Train Score: 25.26 RMSE\n"
          ]
        }
      ]
    },
    {
      "cell_type": "code",
      "source": [
        "testScore = math.sqrt(mean_squared_error(testy[0], testPredict[:,0]))\n",
        "print('Test Score: %.2f RMSE' % (testScore))"
      ],
      "metadata": {
        "id": "m56FQ5eC2fyh",
        "colab": {
          "base_uri": "https://localhost:8080/"
        },
        "outputId": "42d96de1-7730-4b00-e308-0c89010f12a1"
      },
      "execution_count": null,
      "outputs": [
        {
          "output_type": "stream",
          "name": "stdout",
          "text": [
            "Test Score: 45.62 RMSE\n"
          ]
        }
      ]
    },
    {
      "cell_type": "code",
      "source": [],
      "metadata": {
        "id": "odefUif5_5MK"
      },
      "execution_count": null,
      "outputs": []
    },
    {
      "cell_type": "code",
      "source": [
        "trainPredictPlot = np.empty_like(dataset)\n",
        "trainPredictPlot[:, :] = np.nan\n",
        "trainPredictPlot[seq_size:len(trainPredict)+seq_size, :] = trainPredict"
      ],
      "metadata": {
        "id": "8CFGhg9r2rl_"
      },
      "execution_count": null,
      "outputs": []
    },
    {
      "cell_type": "code",
      "source": [
        "testPredictPlot = np.empty_like(dataset)\n",
        "testPredictPlot[:, :] = np.nan\n",
        "testPredictPlot[len(trainPredict)+(seq_size*2)+1:len(dataset)-1, :] = testPredict\n"
      ],
      "metadata": {
        "id": "sxnfHEC026Bl"
      },
      "execution_count": null,
      "outputs": []
    },
    {
      "cell_type": "code",
      "source": [
        "plt.plot(scaler.inverse_transform(dataset))\n",
        "plt.plot(trainPredictPlot)\n",
        "plt.plot(testPredictPlot)\n",
        "#plt.xlabel('time')\n",
        "plt.ylabel('number of cases')\n",
        "plt.title('LSTM monthwise  results for thefts')\n",
        "plt.legend([\" expected values\", \"train predicted values\",\"test predicted values\"])\n",
        "plt.show()"
      ],
      "metadata": {
        "id": "xqomL2ZT2_X6",
        "colab": {
          "base_uri": "https://localhost:8080/",
          "height": 281
        },
        "outputId": "66176fd8-7619-4123-c944-03b7674b0111"
      },
      "execution_count": null,
      "outputs": [
        {
          "output_type": "display_data",
          "data": {
            "text/plain": [
              "<Figure size 432x288 with 1 Axes>"
            ],
            "image/png": "[encoded data removed]"
          },
          "metadata": {
            "needs_background": "light"
          }
        }
      ]
    },
    {
      "cell_type": "code",
      "source": [],
      "metadata": {
        "id": "QaE-tdFJ9w5B"
      },
      "execution_count": null,
      "outputs": []
    }
  ]
}